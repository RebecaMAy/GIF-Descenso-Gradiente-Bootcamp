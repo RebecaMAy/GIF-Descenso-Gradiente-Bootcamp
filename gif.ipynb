{
 "cells": [
  {
   "cell_type": "code",
   "execution_count": 12,
   "id": "fea3a0d2",
   "metadata": {},
   "outputs": [],
   "source": [
    "import matplotlib.pyplot as plt\n",
    "import numpy as np\n",
    "from PIL import Image\n",
    "\n",
    "class DescensoGradiente:\n",
    "\n",
    "    def __init__(self, x, y, lr=0.001, iter=100):\n",
    "        self.x = x\n",
    "        self.n = len(x)\n",
    "        self.y = y\n",
    "        self.lr = lr\n",
    "        self.iter = iter\n",
    "        self.imgs = []\n",
    "        self.m = 0\n",
    "        self.c = 0\n",
    "        self.counter = 0\n",
    "\n",
    "    def derivadas(self):\n",
    "        dm = 2/self.n*sum((self.y-(self.m*self.x+self.c))*(-self.x))\n",
    "        dc = 2/self.n*sum((self.y-(self.m*self.x+self.c))*(-1))\n",
    "        self.m = self.m-dm*self.lr\n",
    "        self.c = self.c-dc*self.lr\n",
    "\n",
    "    def gif(self):\n",
    "        imagenes = [Image.open(f\"imgs/00{i}.png\") for i in range(self.counter)]\n",
    "        imagenes[0].save(\n",
    "            \"imgs/DescensoGradiente.gif\",\n",
    "            save_all=True,\n",
    "            append_images=imagenes[1:],\n",
    "            duration=500,\n",
    "            loop=0\n",
    "        )\n",
    "    \n",
    "    def plots(self):\n",
    "        fig, ax = plt.subplots()\n",
    "        ax.scatter(self.x,self.y)\n",
    "        for i in range(self.iter):\n",
    "            self.derivadas()\n",
    "            y = self.m*self.x+self.c\n",
    "            linea = ax.plot(self.x, y)[0]\n",
    "            ax.set_title(f\"Iteración {i}\")\n",
    "            fig.show()\n",
    "            if i%9==0:\n",
    "                fig.savefig(f\"imgs/00{self.counter}.png\")\n",
    "                self.counter = self.counter + 1\n",
    "            linea.remove()\n",
    "        plt.close(fig) \n",
    "            "
   ]
  },
  {
   "cell_type": "code",
   "execution_count": 13,
   "id": "122aab83",
   "metadata": {},
   "outputs": [
    {
     "name": "stderr",
     "output_type": "stream",
     "text": [
      "C:\\Users\\34631\\AppData\\Local\\Temp\\ipykernel_21228\\3185936354.py:42: UserWarning: FigureCanvasAgg is non-interactive, and thus cannot be shown\n",
      "  fig.show()\n"
     ]
    }
   ],
   "source": [
    "x = np.arange(0,10,1) \n",
    "y = np.array([2,2,4,2,5,7,6,9,8,10])\n",
    "\n",
    "prueba = DescensoGradiente(x,y)\n",
    "prueba.plots()\n",
    "prueba.gif()"
   ]
  }
 ],
 "metadata": {
  "kernelspec": {
   "display_name": "miPrimerEnternoConda",
   "language": "python",
   "name": "python3"
  },
  "language_info": {
   "codemirror_mode": {
    "name": "ipython",
    "version": 3
   },
   "file_extension": ".py",
   "mimetype": "text/x-python",
   "name": "python",
   "nbconvert_exporter": "python",
   "pygments_lexer": "ipython3",
   "version": "3.11.11"
  }
 },
 "nbformat": 4,
 "nbformat_minor": 5
}
